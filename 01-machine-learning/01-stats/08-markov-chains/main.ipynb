{
 "cells": [
  {
   "cell_type": "code",
   "execution_count": 1,
   "metadata": {},
   "outputs": [],
   "source": [
    "import numpy as np"
   ]
  },
  {
   "cell_type": "code",
   "execution_count": null,
   "metadata": {},
   "outputs": [],
   "source": [
    "def compute_equilibrum_dist(A: np.ndarray):\n",
    "    eigenvals, eigenvecs = np.linalg.eig(A.T)\n",
    "    idx = np.where(np.real(eigenvals)==1)[0][0]\n",
    "    equilibrum_vec = eigenvecs[idx]\n",
    "    equilibrum_vec /= equilibrum_vec.sum()\n",
    "    return np.real(equilibrum_vec)\n",
    "        "
   ]
  },
  {
   "cell_type": "code",
   "execution_count": 29,
   "metadata": {},
   "outputs": [
    {
     "data": {
      "text/plain": [
       "array([0., 0., 0., 0., 0., 1.])"
      ]
     },
     "execution_count": 29,
     "metadata": {},
     "output_type": "execute_result"
    }
   ],
   "source": [
    "A = np.array([\n",
    "    [0.5, 0.5, 0. , 0. , 0. , 0. ],\n",
    "    [0. , 0. , 0.2, 0.8, 0. , 0. ],\n",
    "    [0. , 0. , 0. , 0. , 1. , 0. ],\n",
    "    [0. , 0. , 1. , 0. , 0. , 0. ],\n",
    "    [0. , 0. , 0. , 0.9, 0. , 0.1],\n",
    "    [0. , 0. , 0. , 0. , 0. , 1. ]\n",
    "])\n",
    "compute_equilibrum_dist(A)"
   ]
  }
 ],
 "metadata": {
  "kernelspec": {
   "display_name": "pt",
   "language": "python",
   "name": "python3"
  },
  "language_info": {
   "codemirror_mode": {
    "name": "ipython",
    "version": 3
   },
   "file_extension": ".py",
   "mimetype": "text/x-python",
   "name": "python",
   "nbconvert_exporter": "python",
   "pygments_lexer": "ipython3",
   "version": "3.11.10"
  }
 },
 "nbformat": 4,
 "nbformat_minor": 2
}
