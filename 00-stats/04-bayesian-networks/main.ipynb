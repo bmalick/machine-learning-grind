{
 "cells": [
  {
   "cell_type": "code",
   "execution_count": 1,
   "metadata": {},
   "outputs": [],
   "source": [
    "import numpy as np\n",
    "import pandas as pd\n",
    "from sklearn.feature_extraction.text import CountVectorizer\n",
    "from sklearn.model_selection import train_test_split\n",
    "import naive_bayes"
   ]
  },
  {
   "cell_type": "markdown",
   "metadata": {},
   "source": [
    "### Spam Detection using Naive Bayes on small dataset\n",
    "\n",
    "We are given a set of email messages and we aim to classify whether a message is spam or not using the Naive Bayes classifier. The emails are represented using the **Bag of Words** model, where the presence (or absence) of certain words is encoded as binary features. In this case, we use the words `earn`, `million`, `account`, and `password` to model the emails."
   ]
  },
  {
   "cell_type": "markdown",
   "metadata": {},
   "source": [
    "**Dataset**\n",
    "\n",
    "Let \\( X_1 \\) to \\( X_4 \\) represent the presence or absence of the words `earn`, `million`, `account`, and `password`, respectively. We are given 10 labeled examples as shown below:\n",
    "\n",
    "| earn | million | account | password | Class     |\n",
    "|------|---------|---------|----------|-----------|\n",
    "| 1    | 1       | 0       | 0        | Spam      |\n",
    "| 0    | 0       | 1       | 1        | Spam      |\n",
    "| 0    | 1       | 1       | 0        | Not Spam  |\n",
    "| 1    | 1       | 0       | 0        | Spam      |\n",
    "| 0    | 0       | 0       | 0        | Not Spam  |\n",
    "| 1    | 0       | 0       | 0        | Spam      |\n",
    "| 1    | 0       | 0       | 0        | Not Spam  |\n",
    "| 0    | 0       | 0       | 1        | Spam      |\n",
    "| 1    | 0       | 1       | 1        | Spam      |\n",
    "| 0    | 1       | 1       | 1        | Not Spam  |"
   ]
  },
  {
   "cell_type": "code",
   "execution_count": 2,
   "metadata": {},
   "outputs": [],
   "source": [
    "data = pd.DataFrame(\n",
    "        data = {\n",
    "            \"earn\": [1,0,0,1,0,1,1,0,1,0],\n",
    "            \"million\": [1,0,1,1,0,0,0,0,0,1],\n",
    "            \"account\": [0,1,1,0,0,0,0,0,1,1],\n",
    "            \"password\": [0,1,0,0,0,0,0,1,1,1],\n",
    "            \"y\": [\"spam\", \"spam\", \"not spam\", \"spam\", \"not spam\", \"spam\", \"not spam\", \"spam\", \"spam\", \"not spam\"],\n",
    "        }\n",
    "    )"
   ]
  },
  {
   "cell_type": "markdown",
   "metadata": {},
   "source": [
    "**Prior probabilities**\n",
    "\n",
    "The prior probabilities of spam and not spam are:\n",
    "\n",
    "$$\n",
    "P(\\text{Spam}) = \\frac{6}{10} = 0.6, \\quad P(\\text{Not Spam}) = \\frac{4}{10} = 0.4\n",
    "$$\n",
    "\n",
    "**Conditional probabilities**\n",
    "\n",
    "For the word **earn**:\n",
    "\n",
    "$$\n",
    "P(\\text{earn} = 1 \\mid \\text{Spam}) = \\frac{4}{6}, \\quad P(\\text{earn} = 1 \\mid \\text{Not Spam}) = \\frac{1}{4}\n",
    "$$\n",
    "\n",
    "For the word **million**:\n",
    "\n",
    "$$\n",
    "P(\\text{million} = 1 \\mid \\text{Spam}) = \\frac{2}{6}, \\quad P(\\text{million} = 1 \\mid \\text{Not Spam}) = \\frac{2}{4}\n",
    "$$\n",
    "\n",
    "For the word **account**:\n",
    "\n",
    "$$\n",
    "P(\\text{account} = 1 \\mid \\text{Spam}) = \\frac{2}{6}, \\quad P(\\text{account} = 1 \\mid \\text{Not Spam}) = \\frac{2}{4}\n",
    "$$\n",
    "\n",
    "For the word **password**:\n",
    "\n",
    "$$\n",
    "P(\\text{password} = 1 \\mid \\text{Spam}) = \\frac{3}{6}, \\quad P(\\text{password} = 1 \\mid \\text{Not Spam}) = \\frac{1}{4}\n",
    "$$"
   ]
  },
  {
   "cell_type": "markdown",
   "metadata": {},
   "source": [
    "**Posterior Probabilities for a New Message**: `earn = 1`, `million = 1`\n",
    "\n",
    "Using Bayes' rule:\n",
    "\n",
    "**For Spam:**\n",
    "$$\n",
    "\\begin{aligned}\n",
    "P(Y = \\text{Spam} \\mid \\text{earn}, \\text{million}) &\\propto P(Y = \\text{Spam}) \\cdot P(\\text{earn} = 1 \\mid \\text{Spam}) \\cdot P(\\text{million} = 1 \\mid \\text{Spam}) \\\\\n",
    "&\\quad \\cdot P(\\text{account} = 0 \\mid \\text{Spam}) \\cdot P(\\text{password} = 0 \\mid \\text{Spam}) \\\\\n",
    "&\\propto \\frac{6}{10} \\cdot \\frac{4}{6} \\cdot \\frac{2}{6} \\cdot \\left(1 - \\frac{2}{6}\\right) \\cdot \\left(1 - \\frac{3}{6}\\right) \\\\\n",
    "&= \\frac{2}{45}\n",
    "\\end{aligned}\n",
    "$$\n",
    "\n",
    "**For Not Spam:**\n",
    "$$\n",
    "\\begin{aligned}\n",
    "P(Y = \\text{Not Spam} \\mid \\text{earn}, \\text{million}) &\\propto P(Y = \\text{Not Spam}) \\cdot P(\\text{earn} = 1 \\mid \\text{Not Spam}) \\cdot P(\\text{million} = 1 \\mid \\text{Not Spam}) \\\\\n",
    "&\\quad \\cdot P(\\text{account} = 0 \\mid \\text{Not Spam}) \\cdot P(\\text{password} = 0 \\mid \\text{Not Spam}) \\\\\n",
    "&\\propto \\frac{4}{10} \\cdot \\frac{1}{4} \\cdot \\frac{2}{4} \\cdot \\left(1 - \\frac{2}{4}\\right) \\cdot \\left(1 - \\frac{1}{4}\\right) \\\\\n",
    "&= \\frac{3}{160}\n",
    "\\end{aligned}\n",
    "$$\n",
    "\n",
    "**Normalization:**\n",
    "\n",
    "$$\n",
    "P(Y = \\text{Spam} \\mid \\text{earn, million}) = \\frac{\\frac{2}{45}}{\\frac{2}{45} + \\frac{3}{160}} = 0.7\n",
    "$$\n",
    "\n",
    "$$\n",
    "P(Y = \\text{Not Spam} \\mid \\text{earn, million}) = \\frac{\\frac{3}{160}}{\\frac{2}{45} + \\frac{3}{160}} = 0.3\n",
    "$$\n",
    "\n",
    "**Conclusion:**\n",
    "\n",
    "The message containing the words `earn` and `million` is classified as **Spam**."
   ]
  },
  {
   "cell_type": "code",
   "execution_count": 3,
   "metadata": {},
   "outputs": [],
   "source": [
    "x_test = pd.DataFrame(\n",
    "    data={\n",
    "        \"message\": [\"earn+million\", \"million+account\", \"account+password\"],\n",
    "        \"x\": [[1, 1, 0, 0], [0, 1, 1, 0], [0, 0, 1, 1]]\n",
    "    }\n",
    ")"
   ]
  },
  {
   "cell_type": "code",
   "execution_count": 4,
   "metadata": {},
   "outputs": [
    {
     "name": "stdout",
     "output_type": "stream",
     "text": [
      "            message             x                                         pred\n",
      "0      earn+million  [1, 1, 0, 0]  [[0.29670329670329676, 0.7032967032967032]]\n",
      "1   million+account  [0, 1, 1, 0]  [[0.8350515463917526, 0.16494845360824742]]\n",
      "2  account+password  [0, 0, 1, 1]  [[0.45762711864406774, 0.5423728813559323]]\n",
      "\n"
     ]
    }
   ],
   "source": [
    "model = naive_bayes.NaiveBayesFromScratch(\"bernoulli\")\n",
    "model.fit(data.iloc[:, :-1].values, data.y.values)\n",
    "x = np.array([np.array(xi) for xi in x_test.x.values])\n",
    "x_test[\"pred\"] = x_test.x.map(lambda x: model.predict_proba(np.array(x)))\n",
    "print(x_test); print()"
   ]
  },
  {
   "cell_type": "markdown",
   "metadata": {},
   "source": [
    "### Spam Detection on SMSSpamCollection dataset\n"
   ]
  },
  {
   "cell_type": "code",
   "execution_count": 5,
   "metadata": {},
   "outputs": [
    {
     "name": "stdout",
     "output_type": "stream",
     "text": [
      "File already exists\n"
     ]
    }
   ],
   "source": [
    "!source get_data.sh"
   ]
  },
  {
   "cell_type": "code",
   "execution_count": 6,
   "metadata": {},
   "outputs": [],
   "source": [
    "def vectorize_dataset(filename):\n",
    "    messages = []\n",
    "    labels = []\n",
    "    with open(filename, 'r') as f:\n",
    "        for line in f:\n",
    "            label, text = line.split(maxsplit=1)\n",
    "            messages.append(text.lower())\n",
    "            labels.append(int(label==\"spam\"))\n",
    "\n",
    "    vectorizer = CountVectorizer(stop_words='english')\n",
    "    X = vectorizer.fit_transform(messages)\n",
    "    keywords = vectorizer.get_feature_names_out()\n",
    "    \n",
    "    df = pd.DataFrame(data=X.todense(), columns=keywords)\n",
    "    df.insert(loc=0, column=\"#label#\", value=labels)\n",
    "    return df, messages"
   ]
  },
  {
   "cell_type": "code",
   "execution_count": 7,
   "metadata": {},
   "outputs": [
    {
     "name": "stdout",
     "output_type": "stream",
     "text": [
      "Number of words = 8445\n"
     ]
    },
    {
     "data": {
      "text/html": [
       "<div>\n",
       "<style scoped>\n",
       "    .dataframe tbody tr th:only-of-type {\n",
       "        vertical-align: middle;\n",
       "    }\n",
       "\n",
       "    .dataframe tbody tr th {\n",
       "        vertical-align: top;\n",
       "    }\n",
       "\n",
       "    .dataframe thead th {\n",
       "        text-align: right;\n",
       "    }\n",
       "</style>\n",
       "<table border=\"1\" class=\"dataframe\">\n",
       "  <thead>\n",
       "    <tr style=\"text-align: right;\">\n",
       "      <th></th>\n",
       "      <th>#label#</th>\n",
       "      <th>00</th>\n",
       "      <th>000</th>\n",
       "      <th>000pes</th>\n",
       "      <th>008704050406</th>\n",
       "      <th>0089</th>\n",
       "      <th>0121</th>\n",
       "      <th>01223585236</th>\n",
       "      <th>01223585334</th>\n",
       "      <th>0125698789</th>\n",
       "      <th>...</th>\n",
       "      <th>zhong</th>\n",
       "      <th>zindgi</th>\n",
       "      <th>zoe</th>\n",
       "      <th>zogtorius</th>\n",
       "      <th>zoom</th>\n",
       "      <th>zouk</th>\n",
       "      <th>zyada</th>\n",
       "      <th>èn</th>\n",
       "      <th>ú1</th>\n",
       "      <th>〨ud</th>\n",
       "    </tr>\n",
       "  </thead>\n",
       "  <tbody>\n",
       "    <tr>\n",
       "      <th>0</th>\n",
       "      <td>0</td>\n",
       "      <td>0</td>\n",
       "      <td>0</td>\n",
       "      <td>0</td>\n",
       "      <td>0</td>\n",
       "      <td>0</td>\n",
       "      <td>0</td>\n",
       "      <td>0</td>\n",
       "      <td>0</td>\n",
       "      <td>0</td>\n",
       "      <td>...</td>\n",
       "      <td>0</td>\n",
       "      <td>0</td>\n",
       "      <td>0</td>\n",
       "      <td>0</td>\n",
       "      <td>0</td>\n",
       "      <td>0</td>\n",
       "      <td>0</td>\n",
       "      <td>0</td>\n",
       "      <td>0</td>\n",
       "      <td>0</td>\n",
       "    </tr>\n",
       "    <tr>\n",
       "      <th>1</th>\n",
       "      <td>0</td>\n",
       "      <td>0</td>\n",
       "      <td>0</td>\n",
       "      <td>0</td>\n",
       "      <td>0</td>\n",
       "      <td>0</td>\n",
       "      <td>0</td>\n",
       "      <td>0</td>\n",
       "      <td>0</td>\n",
       "      <td>0</td>\n",
       "      <td>...</td>\n",
       "      <td>0</td>\n",
       "      <td>0</td>\n",
       "      <td>0</td>\n",
       "      <td>0</td>\n",
       "      <td>0</td>\n",
       "      <td>0</td>\n",
       "      <td>0</td>\n",
       "      <td>0</td>\n",
       "      <td>0</td>\n",
       "      <td>0</td>\n",
       "    </tr>\n",
       "    <tr>\n",
       "      <th>2</th>\n",
       "      <td>1</td>\n",
       "      <td>0</td>\n",
       "      <td>0</td>\n",
       "      <td>0</td>\n",
       "      <td>0</td>\n",
       "      <td>0</td>\n",
       "      <td>0</td>\n",
       "      <td>0</td>\n",
       "      <td>0</td>\n",
       "      <td>0</td>\n",
       "      <td>...</td>\n",
       "      <td>0</td>\n",
       "      <td>0</td>\n",
       "      <td>0</td>\n",
       "      <td>0</td>\n",
       "      <td>0</td>\n",
       "      <td>0</td>\n",
       "      <td>0</td>\n",
       "      <td>0</td>\n",
       "      <td>0</td>\n",
       "      <td>0</td>\n",
       "    </tr>\n",
       "    <tr>\n",
       "      <th>3</th>\n",
       "      <td>0</td>\n",
       "      <td>0</td>\n",
       "      <td>0</td>\n",
       "      <td>0</td>\n",
       "      <td>0</td>\n",
       "      <td>0</td>\n",
       "      <td>0</td>\n",
       "      <td>0</td>\n",
       "      <td>0</td>\n",
       "      <td>0</td>\n",
       "      <td>...</td>\n",
       "      <td>0</td>\n",
       "      <td>0</td>\n",
       "      <td>0</td>\n",
       "      <td>0</td>\n",
       "      <td>0</td>\n",
       "      <td>0</td>\n",
       "      <td>0</td>\n",
       "      <td>0</td>\n",
       "      <td>0</td>\n",
       "      <td>0</td>\n",
       "    </tr>\n",
       "    <tr>\n",
       "      <th>4</th>\n",
       "      <td>0</td>\n",
       "      <td>0</td>\n",
       "      <td>0</td>\n",
       "      <td>0</td>\n",
       "      <td>0</td>\n",
       "      <td>0</td>\n",
       "      <td>0</td>\n",
       "      <td>0</td>\n",
       "      <td>0</td>\n",
       "      <td>0</td>\n",
       "      <td>...</td>\n",
       "      <td>0</td>\n",
       "      <td>0</td>\n",
       "      <td>0</td>\n",
       "      <td>0</td>\n",
       "      <td>0</td>\n",
       "      <td>0</td>\n",
       "      <td>0</td>\n",
       "      <td>0</td>\n",
       "      <td>0</td>\n",
       "      <td>0</td>\n",
       "    </tr>\n",
       "  </tbody>\n",
       "</table>\n",
       "<p>5 rows × 8445 columns</p>\n",
       "</div>"
      ],
      "text/plain": [
       "   #label#  00  000  000pes  008704050406  0089  0121  01223585236  \\\n",
       "0        0   0    0       0             0     0     0            0   \n",
       "1        0   0    0       0             0     0     0            0   \n",
       "2        1   0    0       0             0     0     0            0   \n",
       "3        0   0    0       0             0     0     0            0   \n",
       "4        0   0    0       0             0     0     0            0   \n",
       "\n",
       "   01223585334  0125698789  ...  zhong  zindgi  zoe  zogtorius  zoom  zouk  \\\n",
       "0            0           0  ...      0       0    0          0     0     0   \n",
       "1            0           0  ...      0       0    0          0     0     0   \n",
       "2            0           0  ...      0       0    0          0     0     0   \n",
       "3            0           0  ...      0       0    0          0     0     0   \n",
       "4            0           0  ...      0       0    0          0     0     0   \n",
       "\n",
       "   zyada  èn  ú1  〨ud  \n",
       "0      0   0   0    0  \n",
       "1      0   0   0    0  \n",
       "2      0   0   0    0  \n",
       "3      0   0   0    0  \n",
       "4      0   0   0    0  \n",
       "\n",
       "[5 rows x 8445 columns]"
      ]
     },
     "execution_count": 7,
     "metadata": {},
     "output_type": "execute_result"
    }
   ],
   "source": [
    "df, messages = vectorize_dataset(filename='SMSSpamCollection')\n",
    "print(f\"Number of words = {len(df.columns)}\")\n",
    "df.head()"
   ]
  },
  {
   "cell_type": "code",
   "execution_count": 8,
   "metadata": {},
   "outputs": [
    {
     "name": "stdout",
     "output_type": "stream",
     "text": [
      "['00', '000', '000pes', '008704050406', '0089', '0121', '01223585236', '01223585334', '0125698789', '02', '0207', '02072069400', '02073162414', '02085076972', '021', '03', '04', '0430', '05', '050703', '0578', '06', '07', '07008009200', '07046744435', '07090201529', '07090298926', '07099833605', '07123456789', '0721072', '07732584351', '07734396839', '07742676969', '07753741225', '0776xxxxxxx', '07781482378', '07786200117', '077xxx', '078', '07801543489', '07808', '07808247860', '07808726822', '07815296484', '07821230901', '078498', '07880867867', '0789xxxxxxx', '07946746291', '0796xxxxxx', '07973788240', '07xxxxxxxxx', '08', '0800', '08000407165', '08000776320', '08000839402', '08000930705', '08000938767', '08001950382', '08002888812', '08002986030', '08002986906', '08002988890', '08006344447', '0808', '08081263000', '08081560665', '0825', '083', '0844', '08448350055', '08448714184', '0845', '08450542832', '08452810071', '08452810073', '08452810075over18', '0870', '08700435505150p', '08700469649', '08700621170150p', '08701213186', '08701237397', '08701417012', '08701417012150p', '0870141701216', '087016248', '08701752560', '087018728737', '0870241182716', '08702490080', '08702840625', '08704050406', '08704439680', '08704439680ts', '08706091795', '0870737910216yrs', '08707500020', '08707509020', '0870753331018', '08707808226', '08708034412', '08708800282', '08709222922', '08709501522', '0871', '087104711148', '08712101358', '08712103738', '0871212025016', '08712300220', '087123002209am', '08712317606', '08712400200', '08712400602450p', '08712400603', '08712402050', '08712402578', '08712402779', '08712402902', '08712402972', '08712404000', '08712405020', '08712405022', '08712460324', '08712466669', '0871277810710p', '0871277810810', '0871277810910p', '08714342399', '087147123779am', '08714712379', '08714712388', '08714712394', '08714712412', '08714714011', '08715203028', '08715203649', '08715203652', '08715203656', '08715203677', '08715203685', '08715203694', '08715205273', '08715500022', '08715705022', '08717111821', '08717168528', '08717205546', '0871750', '08717507382', '08717509990', '08717890890', '08717895698', '08717898035', '08718711108', '08718720201', '08718723815', '08718725756', '08718726270', '087187262701', '08718726970', '08718726971', '08718726978', '087187272008', '08718727868', '08718727870', '08718727870150ppm', '08718730555', '08718730666', '08718738001', '08718738002', '08718738034', '08719180219', '08719180248', '08719181259', '08719181503', '08719181513', '08719839835', '08719899217', '08719899229', '08719899230', '09', '09041940223', '09050000301', '09050000332', '09050000460', '09050000555', '09050000878', '09050000928', '09050001295', '09050001808', '09050002311', '09050003091', '09050005321', '09050090044', '09050280520', '09053750005', '09056242159', '09057039994', '09058091854', '09058091870', '09058094454', '09058094455', '09058094507', '09058094565', '09058094583', '09058094594', '09058094597', '09058094599', '09058095107', '09058095201', '09058097189', '09058097218', '09058098002', '09058099801', '09061104276', '09061104283', '09061209465', '09061213237', '09061221061', '09061221066', '09061701444', '09061701461', '09061701851', '09061701939', '09061702893', '09061743386', '09061743806', '09061743810', '09061743811', '09061744553', '09061749602', '09061790121', '09061790125', '09061790126', '09063440451', '09063442151', '09063458130', '0906346330', '09064011000', '09064012103', '09064012160', '09064015307', '09064017295', '09064017305', '09064018838', '09064019014', '09064019788', '09065069120', '09065069154', '09065171142', '09065174042', '09065394514', '09065394973', '09065989180', '09065989182', '09066350750', '09066358152', '09066358361', '09066361921', '09066362206', '09066362220', '09066362231', '09066364311', '09066364349', '09066364589', '09066368327', '09066368470', '09066368753', '09066380611', '09066382422', '09066612661', '09066649731from', '09066660100', '09071512432', '09071512433', '09071517866', '09077818151', '09090204448', '09090900040', '09094100151', '09094646631', '09094646899', '09095350301', '09096102316', '09099725823', '09099726395', '09099726429', '09099726481', '09099726553', '09111030116', '09111032124', '09701213186', '0a', '0quit', '10', '100', '1000', '1000call', '1000s', '100p', '100percent', '100txt', '1013', '1030', '10am', '10k', '10p', '10ppm', '10th', '11', '1120', '113', '1131', '114', '1146', '116', '1172', '118p', '11mths', '11pm', '12', '1205', '120p', '121', '1225', '123', '125', '1250', '125gift', '128', '12hours', '12hrs', '12mths', '13', '130', '1327', '139', '14', '140', '1405', '140ppm', '145', '1450', '146tf150p', '14tcr', '14thmarch', '15', '150', '1500', '150p', '150p16', '150pm', '150ppermesssubscription', '150ppm', '150ppmpobox10183bhamb64xe', '150ppmsg', '150pw', '151', '153', '15541', '15pm', '16', '165', '1680', '169', '177', '18', '180', '1843', '18p', '18yrs', '195', '1956669', '1apple', '1b6a5ecef91ff9', '1cup', '1da', '1er', '1hr', '1im', '1lemon', '1mega', '1million', '1pm', '1st', '1st4terms', '1stchoice', '1stone', '1thing', '1tulsi', '1win150ppmx3', '1winaweek', '1winawk', '1x150p', '1yf', '20', '200', '2000', '2003', '2004', '2005', '2006', '2007', '200p', '2025050', '20m12aq', '20p', '21', '21870000', '21st', '22', '220', '220cm2', '2309', '23f', '23g', '24', '24hrs', '24m', '24th', '25', '250', '250k', '255', '25p', '26', '2667', '26th', '27', '28', '2814032', '28days', '28th', '28thfeb', '29', '2b', '2bold', '2c', '2channel', '2day', '2docd', '2end', '2exit', '2ez', '2find', '2getha', '2geva', '2go', '2gthr', '2hook', '2hrs', '2i', '2kbsubject', '2lands', '2marrow', '2moro', '2morow', '2morro', '2morrow', '2morrowxxxx', '2mro', '2mrw', '2mwen', '2nd', '2nhite', '2nights', '2nite', '2optout', '2p', '2price', '2px', '2rcv', '2stop', '2stoptx', '2stoptxt', '2u', '2u2', '2watershd', '2waxsto', '2wks', '2wt', '2wu', '2years', '2yr', '2yrs', '30', '300', '3000', '300603', '300603t', '300p', '3030', '30apr', '30ish', '30pm', '30pp', '30s', '30th', '31', '3100', '310303', '31p', '32', '32000', '3230', '32323', '326', '33', '330', '350', '3510i', '35p', '3650', '36504', '3680', '373', '3750', '37819', '38', '382', '391784', '3aj', '3d', '3days', '3g', '3gbp', '3hrs', '3lions', '3lp', '3miles', '3mins', '3mobile', '3optical', '3pound', '3qxj9', '3rd', '3ss', '3uz', '3wks', '3x', '3xx', '40', '400', '400mins', '400thousad', '402', '4041', '40411', '40533', '40gb', '40mph', '41685', '41782', '420', '42049', '4217', '42478', '42810', '430', '434', '44', '440', '4403ldnw1a7rw18', '44345', '447797706009', '447801259231', '448712404000', '449050000301', '449071512431', '45', '450', '450p', '450ppw', '450pw', '45239', '45pm', '47', '4719', '4742', '47per', '48', '4882', '48922', '49', '49557', '4a', '4brekkie', '4d', '4eva', '4few', '4fil', '4get', '4give', '4got', '4goten', '4info', '4jx', '4msgs', '4mths', '4my', '4qf2', '4t', '4th', '4the', '4thnov', '4txt', '4u', '4utxt', '4w', '4ward', '4wrd', '4xx26', '4years', '50', '500', '5000', '505060', '50award', '50ea', '50gbp', '50p', '50perweeksub', '50perwksub', '50pm', '50pmmorefrommobile2bremoved', '50ppm', '50rcvd', '50s', '515', '5226', '523', '5249', '526', '528', '530', '54', '542', '545', '5digital', '5free', '5ish', '5k', '5min', '5mls', '5p', '5pm', '5th', '5wb', '5we', '5wkg', '5wq', '5years', '60', '600', '6031', '6089', '60p', '61', '61200', '61610', '62220cncl', '6230', '62468', '62735', '630', '63miles', '645', '65', '650', '66', '6669', '674', '67441233', '68866', '69101', '69200', '69669', '69696', '69698', '69855', '69866', '69876', '69888', '69888nyt', '69911', '69969', '69988', '6days', '6hl', '6hrs', '6ish', '6missed', '6months', '6ph', '6pm', '6th', '6times', '6wu', '6zf', '700', '71', '7250', '7250i', '730', '731', '74355', '75', '750', '7548', '75max', '762', '7634', '7684', '77', '7732584351', '78', '786', '7876150ppm', '79', '7am', '7cfca1a', '7ish', '7mp', '7oz', '7pm', '7th', '7ws', '7zs', '80', '800', '8000930705', '80062', '8007', '80082', '80086', '80122300p', '80155', '80160', '80182', '8027', '80488', '80608', '8077', '80878', '81010', '81151', '81303', '81618', '82050', '820554ad0a1705572711', '82242', '82277', '82324', '82468', '83021', '83039', '83049', '83110', '83118', '83222', '83332', '83338', '83355', '83370', '83383', '83435', '83600', '83738', '84', '84025', '84122', '84128', '84199', '84484', '85', '850', '85023', '85069', '85222', '85233', '8552', '85555', '86021', '861', '864233', '86688', '86888', '87021', '87066', '87070', '87077', '87121', '87131', '8714714', '872', '87239', '87575', '8800', '88039', '88066', '88088', '88222', '88600', '88800', '8883', '88877', '88888', '89034', '89070', '89080', '89105', '89123', '89545', '89555', '89693', '89938', '8am', '8ball', '8lb', '8p', '8pm', '8th', '8wp', '900', '9061100010', '910', '9153', '9280114', '92h', '930', '9307622', '945', '946', '95', '9755', '9758', '97n7qp', '98321561', '99', '9996', '9ae', '9am', '9ja', '9pm', '9t', '9th', '9yt', '____', 'a21', 'a30', 'acl03530150pm', 'activ8', 'age16', 'age23', 'air1', 'alto18', 'b4', 'b4190604', 'b4280703', 'b4u', 'b4utele', 'ba128nnfwfly150ppm', 'bcm1896wc1n3xx', 'bcm4284', 'bcmsfwc1n3xx', 'best1', 'bold2', 'box1146', 'box139', 'box177', 'box245c2150pm', 'box326', 'box334', 'box334sk38ch', 'box385', 'box39822', 'box403', 'box420', 'box42wr29c', 'box434sk38wp150ppm18', 'box61', 'box95qu', 'box97n7qp', 'breathe1', 'bus8', 'bx420', 'bx526', 'c52', 'call09050000327', 'call2optout', 'callcost150ppmmobilesvary', 'calls1', 'cc100p', 'chat80155', 'clos1', 'closingdate04', 'club4', 'club4mobiles', 'cm2', 'com1win150ppmx3age16', 'com1win150ppmx3age16subscription', 'cr01327bt', 'cr9', 'cro1327', 'csbcm4235wc1n3xx', 'csh11', 'cw25wx', 'd3wv', 'datebox1282essexcm61xn', 'dear1', 'e14', 'ec2a', 'eh74rr', 'emc1', 'entry41', 'euro2004', 'every1', 'evry1', 'f4q', 'free2day', 'g2', 'g696ga', 'gbp1', 'gbp4', 'gbp5', 'gek1510', 'get4an18th', 'go2', 'go2sri', 'goin2bed', 'gr8', 'gr8fun', 'gr8prizes', 'gudni8', 'half8th', 'hav2hear', 'help08700621170150p', 'help08714742804', 'help08718728876', 'hf8', 'hmv1', 'hp20', 'hv9d', 'icmb3cktz8r7', 'ig11', 'in2', 'ip4', 'itried2tell', 'j5q', 'j89', 'k52', 'k61', 'k718', 'kl341', 'l8', 'l8er', 'l8r', 'l8rs', 'l8tr', 'la1', 'la3', 'la32wu', 'ldnw15h', 'least5times', 'lf56', 'listened2the', 'listening2the', 'lkpobox177hp51fl', 'ls1', 'ls15hb', 'ls278bb', 'm100', 'm221bp', 'm227xy', 'm26', 'm263uz', 'm39m51', 'm6', 'm60', 'm8', 'm8s', 'm95', 'mad1', 'mad2', 'matrix3', 'max10mins', 'max6', 'minmobsmorelkpobox177hp51fl', 'minmoremobsemspobox45po139wa', 'mk17', 'mk45', 'mobileupd8', 'mobstorequiz10ppm', 'mobypobox734ls27yf', 'mp3', 'msg150p', 'msgrcvd18', 'mtmsg18', 'mtmsgrcvd18', 'n8', 'n9dx', 'name1', 'name2', 'nat27081980', 'natalie2k9', 'neo69', 'ni8', 'nikiyu4', 'no1', 'nokia6600', 'nokia6650', 'norm150p', 'now1', 'nr31', 'o2', 'o2fwd', 'only1more', 'or2optout', 'or2stoptxt', 'outl8r', 'payed2day', 'pc1323', 'pdate_now', 'person2die', 'phb1', 'phone750', 'picsfree1', 'po19', 'pobox1', 'pobox114', 'pobox12n146tf15', 'pobox12n146tf150p', 'pobox202', 'pobox334', 'pobox36504w45wq', 'pobox365o4w45wq', 'pobox45w2tg150p', 'pobox75ldns7', 'pobox84', 'poboxox36504w45wq', 'poly3', 'ppm150', 'ppt150x3', 'ps3', 'pt2', 'px3748', 'r836', 'real1', 'replys150', 'rg21', 'rodds1', 'rp176781', 's3xy', 's89', 'sdryb8i', 'simonwatson5120', 'sk3', 'sk38xh', 'some1', 'sq825', 'starwars3', 'stop2', 'stop2stop', 'str8', 'stuff42moro', 'subs16', 'subscribe6gbp', 'subscriptn3gbp', 'suite342', 'sum1', 'sun0819', 'sw7', 'sw73ss', 't4get2text', 't91', 'text82228', 'thanks2', 'thanx4', 'that2worzels', 'the4th', 'tones2u', 'tones2you', 'true18', 'tscs08714740323', 'tscs087147403231winawk', 'txt250', 'txt43', 'txt82228', 'u2moro', 'u4', 'up4', 'upd8', 'update_now', 'valid12hrs', 'vipclub4u', 'vouch4me', 'w1', 'w111wx', 'w14rg', 'w1a', 'w1j', 'w1j6hl', 'w1jhl', 'w1t1jy', 'w4', 'w45wq', 'w8in', 'wa14', 'wan2', 'want2come', 'way2sms', 'wc1n', 'wc1n3xx', 'web2mobile', 'win150ppmx3age16', 'wire3', 'x2', 'x29', 'x49', 'y87', 'ú1', '〨ud']\n"
     ]
    }
   ],
   "source": [
    "keywords = df.columns[1:]\n",
    "non_english_words = [w for w in keywords if not w.isalpha()]\n",
    "print(non_english_words)\n",
    "df.drop(non_english_words, axis=1, inplace=True)"
   ]
  },
  {
   "cell_type": "code",
   "execution_count": 9,
   "metadata": {},
   "outputs": [
    {
     "data": {
      "text/plain": [
       "(True, 565)"
      ]
     },
     "execution_count": 9,
     "metadata": {},
     "output_type": "execute_result"
    }
   ],
   "source": [
    "df.duplicated().any(), df.duplicated().sum()"
   ]
  },
  {
   "cell_type": "code",
   "execution_count": 10,
   "metadata": {},
   "outputs": [],
   "source": [
    "df.drop_duplicates(inplace=True)"
   ]
  },
  {
   "cell_type": "code",
   "execution_count": 11,
   "metadata": {},
   "outputs": [
    {
     "data": {
      "text/plain": [
       "#label#\n",
       "0    0.887003\n",
       "1    0.112997\n",
       "Name: proportion, dtype: float64"
      ]
     },
     "execution_count": 11,
     "metadata": {},
     "output_type": "execute_result"
    }
   ],
   "source": [
    "df[\"#label#\"].value_counts(normalize=True)"
   ]
  },
  {
   "cell_type": "code",
   "execution_count": 12,
   "metadata": {},
   "outputs": [],
   "source": [
    "X = df.iloc[:,1:].values\n",
    "y = df['#label#'].values"
   ]
  },
  {
   "cell_type": "markdown",
   "metadata": {},
   "source": [
    "Cross Validation"
   ]
  },
  {
   "cell_type": "code",
   "execution_count": 13,
   "metadata": {},
   "outputs": [
    {
     "data": {
      "text/plain": [
       "0.9763999999999999"
      ]
     },
     "execution_count": 13,
     "metadata": {},
     "output_type": "execute_result"
    }
   ],
   "source": [
    "model = naive_bayes.NaiveBayesFromScratch(distribution=\"bernoulli\")\n",
    "scores = naive_bayes.cross_validation(model, X, y, 10)\n",
    "scores.mean()"
   ]
  },
  {
   "cell_type": "code",
   "execution_count": 14,
   "metadata": {},
   "outputs": [],
   "source": [
    "# model = naive_bayes.NaiveBayesFromScratch(distribution=\"gaussian\")\n",
    "# scores = naive_bayes.cross_validation(model, X, y, 10)\n",
    "# scores.mean()"
   ]
  },
  {
   "cell_type": "markdown",
   "metadata": {},
   "source": [
    "Calibration"
   ]
  },
  {
   "cell_type": "code",
   "execution_count": 15,
   "metadata": {},
   "outputs": [],
   "source": [
    "X1, X2, y1, y2 = train_test_split(X, y, test_size=0.5, random_state=42)\n",
    "\n",
    "clf = naive_bayes.NaiveBayesFromScratch(distribution=\"bernoulli\")\n",
    "clf.fit(X1, y1)\n",
    "\n",
    "probas = clf.predict_proba(X2)"
   ]
  },
  {
   "cell_type": "code",
   "execution_count": 16,
   "metadata": {},
   "outputs": [
    {
     "data": {
      "text/plain": [
       "array([[1.00000000e+00, 2.38436178e-17],\n",
       "       [1.00000000e+00, 4.81837614e-20],\n",
       "       [1.00000000e+00, 1.21054473e-12],\n",
       "       ...,\n",
       "       [2.42312291e-20, 1.00000000e+00],\n",
       "       [3.45535369e-40, 1.00000000e+00],\n",
       "       [9.99211541e-01, 7.88458644e-04]])"
      ]
     },
     "execution_count": 16,
     "metadata": {},
     "output_type": "execute_result"
    }
   ],
   "source": [
    "probas"
   ]
  },
  {
   "cell_type": "code",
   "execution_count": 17,
   "metadata": {},
   "outputs": [
    {
     "data": {
      "image/png": "[encoded data removed]",
      "text/plain": [
       "<Figure size 640x480 with 1 Axes>"
      ]
     },
     "metadata": {},
     "output_type": "display_data"
    }
   ],
   "source": [
    "naive_bayes.calibration_curve_from_scratch(y_true=y2, pred_probas=probas, k=10)"
   ]
  }
 ],
 "metadata": {
  "kernelspec": {
   "display_name": "pt",
   "language": "python",
   "name": "python3"
  },
  "language_info": {
   "codemirror_mode": {
    "name": "ipython",
    "version": 3
   },
   "file_extension": ".py",
   "mimetype": "text/x-python",
   "name": "python",
   "nbconvert_exporter": "python",
   "pygments_lexer": "ipython3",
   "version": "3.11.10"
  }
 },
 "nbformat": 4,
 "nbformat_minor": 2
}
